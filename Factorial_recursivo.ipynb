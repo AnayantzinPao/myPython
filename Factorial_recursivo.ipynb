{
 "cells": [
  {
   "cell_type": "markdown",
   "metadata": {},
   "source": [
    "#### Factorial de un número con recursión\n",
    "\n",
    "Una función esta siendo recursiva cuando dentro de su definición se llama a si misma.\n",
    "\n",
    "Para la recursión es muy importante el caso base o la condición de paro."
   ]
  },
  {
   "cell_type": "markdown",
   "metadata": {},
   "source": [
    "#### Factorial de un numero\n",
    "\n",
    "- 5! = 5 * 4!\n",
    "\n",
    "- 4! = 4 * 3!\n",
    "\n",
    "- 3! = 3 * 2!\n",
    "\n",
    "- 2! = 2 * 1\n",
    "\n",
    "- = 120"
   ]
  },
  {
   "cell_type": "code",
   "execution_count": 1,
   "metadata": {},
   "outputs": [],
   "source": [
    "def factorial(num):\n",
    "    if num == 0:\n",
    "        return 1\n",
    "    else:\n",
    "        return factorial(num - 1) * num"
   ]
  },
  {
   "cell_type": "code",
   "execution_count": null,
   "metadata": {},
   "outputs": [],
   "source": [
    "if __name__ == '__main__':\n",
    "    number = int(input('Write a number to get its factorial: '))\n",
    "    \n",
    "    factorial(number)\n",
    "    \n",
    "    print(factorial(number))"
   ]
  }
 ],
 "metadata": {
  "kernelspec": {
   "display_name": "Python 3",
   "language": "python",
   "name": "python3"
  },
  "language_info": {
   "codemirror_mode": {
    "name": "ipython",
    "version": 3
   },
   "file_extension": ".py",
   "mimetype": "text/x-python",
   "name": "python",
   "nbconvert_exporter": "python",
   "pygments_lexer": "ipython3",
   "version": "3.7.7"
  }
 },
 "nbformat": 4,
 "nbformat_minor": 4
}
